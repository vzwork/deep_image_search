{
 "cells": [
  {
   "cell_type": "markdown",
   "id": "de24bf05",
   "metadata": {},
   "source": [
    "# Проект"
   ]
  },
  {
   "cell_type": "markdown",
   "id": "7cfc3183",
   "metadata": {},
   "source": [
    "- Проект\n",
    "- Описание Проекта\n",
    "- Библиотеки + Выгрузка Данных\n",
    "- Исследовательский Анализ\n",
    "- Обьединение Данных\n",
    "- Векторизация Текста\n",
    "- Юридические Ограничения\n",
    "- Train/Test data pipeline for CNN\n",
    "- CNN тренировка\n",
    "- CNN извлечение векторизированного контекста\n",
    "- Train/Test data pipeline for NN + Hyperparameters tunning\n",
    "- Вывод"
   ]
  },
  {
   "cell_type": "markdown",
   "id": "534f3414",
   "metadata": {},
   "source": [
    "# Описание Проекта"
   ]
  },
  {
   "cell_type": "markdown",
   "id": "c931887b",
   "metadata": {},
   "source": [
    "Сервис. На запрос ввиде описания фотографии сервис представлает фотографии похожие по смыслу. <br/>\n",
    "<br/>\n",
    "Извлекать смысл из описания будем с помощью векторизации - BERT. <br/>\n",
    "Сапоставлять фотографии с векторами будем с помощью сверточной нейросети. <br/>\n",
    "PoC (Proof of Concept, Проверка Концепции) - нужно найти сеть которая лучше всего будет описывать фотографии. <br/>\n",
    "Векторное описание фотографии нужно будет сопаставить с настоящим описанием (векторизированным). <br/>\n",
    "<br/>\n",
    "Построим модель которая будет предсказывать если вектор из описания фотографии и текста похожи. <br/>\n"
   ]
  },
  {
   "cell_type": "markdown",
   "id": "ef15856b",
   "metadata": {},
   "source": [
    "# Библиотеки + Выгрузка Данных"
   ]
  },
  {
   "cell_type": "code",
   "execution_count": 57,
   "id": "e880e9cd",
   "metadata": {},
   "outputs": [],
   "source": [
    "import os\n",
    "import random\n",
    "import math\n",
    "\n",
    "import pandas as pd\n",
    "import numpy as np\n",
    "import matplotlib.pyplot as plt"
   ]
  },
  {
   "cell_type": "code",
   "execution_count": 2,
   "id": "fe85ffcb",
   "metadata": {},
   "outputs": [],
   "source": [
    "np.random.seed(2023)\n",
    "random.seed(2023)"
   ]
  },
  {
   "cell_type": "code",
   "execution_count": 3,
   "id": "b422dd08",
   "metadata": {},
   "outputs": [],
   "source": [
    "# tensorflow\n",
    "# BERT"
   ]
  },
  {
   "cell_type": "code",
   "execution_count": 4,
   "id": "d32c31c2",
   "metadata": {},
   "outputs": [
    {
     "data": {
      "text/plain": [
       "['test_images',\n",
       " 'test_images.csv',\n",
       " '.DS_Store',\n",
       " 'train_dataset.csv',\n",
       " 'ExpertAnnotations.tsv',\n",
       " 'CrowdAnnotations.tsv',\n",
       " 'train_images',\n",
       " 'test_queries.csv']"
      ]
     },
     "execution_count": 4,
     "metadata": {},
     "output_type": "execute_result"
    }
   ],
   "source": [
    "os.listdir('./datasets')"
   ]
  },
  {
   "cell_type": "code",
   "execution_count": 5,
   "id": "52f8777a",
   "metadata": {},
   "outputs": [
    {
     "data": {
      "text/html": [
       "<div>\n",
       "<style scoped>\n",
       "    .dataframe tbody tr th:only-of-type {\n",
       "        vertical-align: middle;\n",
       "    }\n",
       "\n",
       "    .dataframe tbody tr th {\n",
       "        vertical-align: top;\n",
       "    }\n",
       "\n",
       "    .dataframe thead th {\n",
       "        text-align: right;\n",
       "    }\n",
       "</style>\n",
       "<table border=\"1\" class=\"dataframe\">\n",
       "  <thead>\n",
       "    <tr style=\"text-align: right;\">\n",
       "      <th></th>\n",
       "      <th>image</th>\n",
       "    </tr>\n",
       "  </thead>\n",
       "  <tbody>\n",
       "    <tr>\n",
       "      <th>56</th>\n",
       "      <td>782401952_5bc5d3413a.jpg</td>\n",
       "    </tr>\n",
       "    <tr>\n",
       "      <th>12</th>\n",
       "      <td>2885891981_6b02620ae9.jpg</td>\n",
       "    </tr>\n",
       "    <tr>\n",
       "      <th>68</th>\n",
       "      <td>957682378_46c3b07bcd.jpg</td>\n",
       "    </tr>\n",
       "  </tbody>\n",
       "</table>\n",
       "</div>"
      ],
      "text/plain": [
       "                        image\n",
       "56   782401952_5bc5d3413a.jpg\n",
       "12  2885891981_6b02620ae9.jpg\n",
       "68   957682378_46c3b07bcd.jpg"
      ]
     },
     "execution_count": 5,
     "metadata": {},
     "output_type": "execute_result"
    }
   ],
   "source": [
    "test_images = pd.read_csv('./datasets/test_images.csv')\n",
    "test_images.sample(3)"
   ]
  },
  {
   "cell_type": "code",
   "execution_count": 6,
   "id": "a27f588a",
   "metadata": {},
   "outputs": [
    {
     "data": {
      "text/html": [
       "<div>\n",
       "<style scoped>\n",
       "    .dataframe tbody tr th:only-of-type {\n",
       "        vertical-align: middle;\n",
       "    }\n",
       "\n",
       "    .dataframe tbody tr th {\n",
       "        vertical-align: top;\n",
       "    }\n",
       "\n",
       "    .dataframe thead th {\n",
       "        text-align: right;\n",
       "    }\n",
       "</style>\n",
       "<table border=\"1\" class=\"dataframe\">\n",
       "  <thead>\n",
       "    <tr style=\"text-align: right;\">\n",
       "      <th></th>\n",
       "      <th>image</th>\n",
       "      <th>query_id</th>\n",
       "      <th>query_text</th>\n",
       "    </tr>\n",
       "  </thead>\n",
       "  <tbody>\n",
       "    <tr>\n",
       "      <th>1345</th>\n",
       "      <td>2421446839_fe7d46c177.jpg</td>\n",
       "      <td>533483374_86c5d4c13e.jpg#2</td>\n",
       "      <td>a dog on the beach .</td>\n",
       "    </tr>\n",
       "    <tr>\n",
       "      <th>2741</th>\n",
       "      <td>2913965136_2d00136697.jpg</td>\n",
       "      <td>2813033949_e19fa08805.jpg#2</td>\n",
       "      <td>A white and black dog is jumping in the air tr...</td>\n",
       "    </tr>\n",
       "    <tr>\n",
       "      <th>3914</th>\n",
       "      <td>2902269566_419d9f1d8e.jpg</td>\n",
       "      <td>2340206885_58754a799a.jpg#2</td>\n",
       "      <td>Three dogs in the snow .</td>\n",
       "    </tr>\n",
       "  </tbody>\n",
       "</table>\n",
       "</div>"
      ],
      "text/plain": [
       "                          image                     query_id   \n",
       "1345  2421446839_fe7d46c177.jpg   533483374_86c5d4c13e.jpg#2  \\\n",
       "2741  2913965136_2d00136697.jpg  2813033949_e19fa08805.jpg#2   \n",
       "3914  2902269566_419d9f1d8e.jpg  2340206885_58754a799a.jpg#2   \n",
       "\n",
       "                                             query_text  \n",
       "1345                               a dog on the beach .  \n",
       "2741  A white and black dog is jumping in the air tr...  \n",
       "3914                           Three dogs in the snow .  "
      ]
     },
     "execution_count": 6,
     "metadata": {},
     "output_type": "execute_result"
    }
   ],
   "source": [
    "train_dataset = pd.read_csv('./datasets/train_dataset.csv')\n",
    "train_dataset.sample(3)"
   ]
  },
  {
   "cell_type": "code",
   "execution_count": 7,
   "id": "aca22588",
   "metadata": {},
   "outputs": [
    {
     "data": {
      "text/html": [
       "<div>\n",
       "<style scoped>\n",
       "    .dataframe tbody tr th:only-of-type {\n",
       "        vertical-align: middle;\n",
       "    }\n",
       "\n",
       "    .dataframe tbody tr th {\n",
       "        vertical-align: top;\n",
       "    }\n",
       "\n",
       "    .dataframe thead th {\n",
       "        text-align: right;\n",
       "    }\n",
       "</style>\n",
       "<table border=\"1\" class=\"dataframe\">\n",
       "  <thead>\n",
       "    <tr style=\"text-align: right;\">\n",
       "      <th></th>\n",
       "      <th>file_name</th>\n",
       "      <th>query_id</th>\n",
       "      <th>score_1</th>\n",
       "      <th>score_2</th>\n",
       "      <th>score_3</th>\n",
       "    </tr>\n",
       "  </thead>\n",
       "  <tbody>\n",
       "    <tr>\n",
       "      <th>4690</th>\n",
       "      <td>3593392955_a4125087f6.jpg</td>\n",
       "      <td>2723477522_d89f5ac62b.jpg#2</td>\n",
       "      <td>3</td>\n",
       "      <td>3</td>\n",
       "      <td>3</td>\n",
       "    </tr>\n",
       "    <tr>\n",
       "      <th>161</th>\n",
       "      <td>1287073593_f3d2a62455.jpg</td>\n",
       "      <td>2708686056_1b8f356264.jpg#2</td>\n",
       "      <td>1</td>\n",
       "      <td>1</td>\n",
       "      <td>1</td>\n",
       "    </tr>\n",
       "    <tr>\n",
       "      <th>4999</th>\n",
       "      <td>3720366614_dfa8fe1088.jpg</td>\n",
       "      <td>2963573792_dd51b5fbfb.jpg#2</td>\n",
       "      <td>1</td>\n",
       "      <td>1</td>\n",
       "      <td>1</td>\n",
       "    </tr>\n",
       "  </tbody>\n",
       "</table>\n",
       "</div>"
      ],
      "text/plain": [
       "                      file_name                     query_id  score_1   \n",
       "4690  3593392955_a4125087f6.jpg  2723477522_d89f5ac62b.jpg#2        3  \\\n",
       "161   1287073593_f3d2a62455.jpg  2708686056_1b8f356264.jpg#2        1   \n",
       "4999  3720366614_dfa8fe1088.jpg  2963573792_dd51b5fbfb.jpg#2        1   \n",
       "\n",
       "      score_2  score_3  \n",
       "4690        3        3  \n",
       "161         1        1  \n",
       "4999        1        1  "
      ]
     },
     "execution_count": 7,
     "metadata": {},
     "output_type": "execute_result"
    }
   ],
   "source": [
    "ExpertAnnotations = pd.read_csv('./datasets/ExpertAnnotations.tsv', sep='\\t', \n",
    "                                names=['file_name', 'query_id', 'score_1', 'score_2', 'score_3'])\n",
    "ExpertAnnotations.sample(3)"
   ]
  },
  {
   "cell_type": "code",
   "execution_count": 8,
   "id": "43970a42",
   "metadata": {},
   "outputs": [
    {
     "data": {
      "text/html": [
       "<div>\n",
       "<style scoped>\n",
       "    .dataframe tbody tr th:only-of-type {\n",
       "        vertical-align: middle;\n",
       "    }\n",
       "\n",
       "    .dataframe tbody tr th {\n",
       "        vertical-align: top;\n",
       "    }\n",
       "\n",
       "    .dataframe thead th {\n",
       "        text-align: right;\n",
       "    }\n",
       "</style>\n",
       "<table border=\"1\" class=\"dataframe\">\n",
       "  <thead>\n",
       "    <tr style=\"text-align: right;\">\n",
       "      <th></th>\n",
       "      <th>file_name</th>\n",
       "      <th>query_id</th>\n",
       "      <th>score_1</th>\n",
       "      <th>score_2</th>\n",
       "      <th>score_3</th>\n",
       "    </tr>\n",
       "  </thead>\n",
       "  <tbody>\n",
       "    <tr>\n",
       "      <th>27453</th>\n",
       "      <td>3214573346_d3a57f0328.jpg</td>\n",
       "      <td>3128164023_ebe8da4c32.jpg#2</td>\n",
       "      <td>0.000000</td>\n",
       "      <td>0</td>\n",
       "      <td>3</td>\n",
       "    </tr>\n",
       "    <tr>\n",
       "      <th>18079</th>\n",
       "      <td>2796801478_8ebd7e550b.jpg</td>\n",
       "      <td>2868575889_2c030aa8ae.jpg#2</td>\n",
       "      <td>0.333333</td>\n",
       "      <td>1</td>\n",
       "      <td>2</td>\n",
       "    </tr>\n",
       "    <tr>\n",
       "      <th>14017</th>\n",
       "      <td>2549968784_39bfbe44f9.jpg</td>\n",
       "      <td>539751252_2bd88c456b.jpg#2</td>\n",
       "      <td>0.333333</td>\n",
       "      <td>1</td>\n",
       "      <td>2</td>\n",
       "    </tr>\n",
       "  </tbody>\n",
       "</table>\n",
       "</div>"
      ],
      "text/plain": [
       "                       file_name                     query_id   score_1   \n",
       "27453  3214573346_d3a57f0328.jpg  3128164023_ebe8da4c32.jpg#2  0.000000  \\\n",
       "18079  2796801478_8ebd7e550b.jpg  2868575889_2c030aa8ae.jpg#2  0.333333   \n",
       "14017  2549968784_39bfbe44f9.jpg   539751252_2bd88c456b.jpg#2  0.333333   \n",
       "\n",
       "       score_2  score_3  \n",
       "27453        0        3  \n",
       "18079        1        2  \n",
       "14017        1        2  "
      ]
     },
     "execution_count": 8,
     "metadata": {},
     "output_type": "execute_result"
    }
   ],
   "source": [
    "CrowdAnnotations = pd.read_csv('./datasets/CrowdAnnotations.tsv', sep='\\t', \n",
    "                                names=['file_name', 'query_id', 'score_1', 'score_2', 'score_3'])\n",
    "CrowdAnnotations.sample(3)"
   ]
  },
  {
   "cell_type": "code",
   "execution_count": 9,
   "id": "fb6ceb85",
   "metadata": {},
   "outputs": [
    {
     "data": {
      "text/html": [
       "<div>\n",
       "<style scoped>\n",
       "    .dataframe tbody tr th:only-of-type {\n",
       "        vertical-align: middle;\n",
       "    }\n",
       "\n",
       "    .dataframe tbody tr th {\n",
       "        vertical-align: top;\n",
       "    }\n",
       "\n",
       "    .dataframe thead th {\n",
       "        text-align: right;\n",
       "    }\n",
       "</style>\n",
       "<table border=\"1\" class=\"dataframe\">\n",
       "  <thead>\n",
       "    <tr style=\"text-align: right;\">\n",
       "      <th></th>\n",
       "      <th>query_id</th>\n",
       "      <th>query_text</th>\n",
       "      <th>image</th>\n",
       "    </tr>\n",
       "  </thead>\n",
       "  <tbody>\n",
       "    <tr>\n",
       "      <th>134</th>\n",
       "      <td>2517284816_9b8fd3c6b6.jpg#4</td>\n",
       "      <td>Middle school aged kids are showing their scho...</td>\n",
       "      <td>2517284816_9b8fd3c6b6.jpg</td>\n",
       "    </tr>\n",
       "    <tr>\n",
       "      <th>56</th>\n",
       "      <td>2060031241_a3ae7a06bb.jpg#1</td>\n",
       "      <td>a baby is holding a controller to a video game...</td>\n",
       "      <td>2060031241_a3ae7a06bb.jpg</td>\n",
       "    </tr>\n",
       "    <tr>\n",
       "      <th>299</th>\n",
       "      <td>3351418768_596ef7fd6f.jpg#4</td>\n",
       "      <td>A woman in purple with two children in the mou...</td>\n",
       "      <td>3351418768_596ef7fd6f.jpg</td>\n",
       "    </tr>\n",
       "  </tbody>\n",
       "</table>\n",
       "</div>"
      ],
      "text/plain": [
       "                        query_id   \n",
       "134  2517284816_9b8fd3c6b6.jpg#4  \\\n",
       "56   2060031241_a3ae7a06bb.jpg#1   \n",
       "299  3351418768_596ef7fd6f.jpg#4   \n",
       "\n",
       "                                            query_text   \n",
       "134  Middle school aged kids are showing their scho...  \\\n",
       "56   a baby is holding a controller to a video game...   \n",
       "299  A woman in purple with two children in the mou...   \n",
       "\n",
       "                         image  \n",
       "134  2517284816_9b8fd3c6b6.jpg  \n",
       "56   2060031241_a3ae7a06bb.jpg  \n",
       "299  3351418768_596ef7fd6f.jpg  "
      ]
     },
     "execution_count": 9,
     "metadata": {},
     "output_type": "execute_result"
    }
   ],
   "source": [
    "test_queries = pd.read_csv('./datasets/test_queries.csv', sep='|', index_col=0)\n",
    "test_queries.sample(3)"
   ]
  },
  {
   "cell_type": "markdown",
   "id": "1b87d05d",
   "metadata": {},
   "source": [
    "# Предобработка Данных + Исследовательский Анализ"
   ]
  },
  {
   "cell_type": "markdown",
   "id": "eb759384",
   "metadata": {},
   "source": [
    "Описание Данных:\n",
    "- train_dataset - на этих данных мы будем тренировать сверточную сеть\n",
    "- test_images - поток фоток без описания\n",
    "- test_queries - поток описаний с неопределенным качеством\n",
    "- ExpertAnnotations - поток качества описанний полученные с помощью экспертов\n",
    "- CrowdAnnotations - поток качества описанний полученные с помощью волонтерев"
   ]
  },
  {
   "cell_type": "markdown",
   "id": "699f3019",
   "metadata": {},
   "source": [
    "<div style=\"padding:1rem;background:aqua;\">\n",
    "    Проверим выбросы и ошибки\n",
    "</div>"
   ]
  },
  {
   "cell_type": "code",
   "execution_count": 18,
   "id": "46e082dd",
   "metadata": {},
   "outputs": [
    {
     "data": {
      "image/png": "[encoded data removed]",
      "text/plain": [
       "<Figure size 640x480 with 1 Axes>"
      ]
     },
     "metadata": {},
     "output_type": "display_data"
    }
   ],
   "source": [
    "train_dataset.query_text.str.len().hist(bins=16)\n",
    "plt.title('Распределение длины описания картинок.')\n",
    "plt.xlabel('длина описания (кол-во букв)')\n",
    "plt.ylabel('кол-во обьектов')\n",
    "plt.show()"
   ]
  },
  {
   "cell_type": "markdown",
   "id": "e383d7a0",
   "metadata": {},
   "source": [
    "Несмотря на то что данных мала в диапазоне 120-140, они не выглядят как выбросы."
   ]
  },
  {
   "cell_type": "code",
   "execution_count": 19,
   "id": "d55175ce",
   "metadata": {},
   "outputs": [
    {
     "data": {
      "text/html": [
       "<div>\n",
       "<style scoped>\n",
       "    .dataframe tbody tr th:only-of-type {\n",
       "        vertical-align: middle;\n",
       "    }\n",
       "\n",
       "    .dataframe tbody tr th {\n",
       "        vertical-align: top;\n",
       "    }\n",
       "\n",
       "    .dataframe thead th {\n",
       "        text-align: right;\n",
       "    }\n",
       "</style>\n",
       "<table border=\"1\" class=\"dataframe\">\n",
       "  <thead>\n",
       "    <tr style=\"text-align: right;\">\n",
       "      <th></th>\n",
       "      <th>score_1</th>\n",
       "      <th>score_2</th>\n",
       "      <th>score_3</th>\n",
       "    </tr>\n",
       "  </thead>\n",
       "  <tbody>\n",
       "    <tr>\n",
       "      <th>count</th>\n",
       "      <td>5822.000000</td>\n",
       "      <td>5822.000000</td>\n",
       "      <td>5822.000000</td>\n",
       "    </tr>\n",
       "    <tr>\n",
       "      <th>mean</th>\n",
       "      <td>1.436620</td>\n",
       "      <td>1.624356</td>\n",
       "      <td>1.881999</td>\n",
       "    </tr>\n",
       "    <tr>\n",
       "      <th>std</th>\n",
       "      <td>0.787084</td>\n",
       "      <td>0.856222</td>\n",
       "      <td>0.904087</td>\n",
       "    </tr>\n",
       "    <tr>\n",
       "      <th>min</th>\n",
       "      <td>1.000000</td>\n",
       "      <td>1.000000</td>\n",
       "      <td>1.000000</td>\n",
       "    </tr>\n",
       "    <tr>\n",
       "      <th>25%</th>\n",
       "      <td>1.000000</td>\n",
       "      <td>1.000000</td>\n",
       "      <td>1.000000</td>\n",
       "    </tr>\n",
       "    <tr>\n",
       "      <th>50%</th>\n",
       "      <td>1.000000</td>\n",
       "      <td>1.000000</td>\n",
       "      <td>2.000000</td>\n",
       "    </tr>\n",
       "    <tr>\n",
       "      <th>75%</th>\n",
       "      <td>2.000000</td>\n",
       "      <td>2.000000</td>\n",
       "      <td>2.000000</td>\n",
       "    </tr>\n",
       "    <tr>\n",
       "      <th>max</th>\n",
       "      <td>4.000000</td>\n",
       "      <td>4.000000</td>\n",
       "      <td>4.000000</td>\n",
       "    </tr>\n",
       "  </tbody>\n",
       "</table>\n",
       "</div>"
      ],
      "text/plain": [
       "           score_1      score_2      score_3\n",
       "count  5822.000000  5822.000000  5822.000000\n",
       "mean      1.436620     1.624356     1.881999\n",
       "std       0.787084     0.856222     0.904087\n",
       "min       1.000000     1.000000     1.000000\n",
       "25%       1.000000     1.000000     1.000000\n",
       "50%       1.000000     1.000000     2.000000\n",
       "75%       2.000000     2.000000     2.000000\n",
       "max       4.000000     4.000000     4.000000"
      ]
     },
     "execution_count": 19,
     "metadata": {},
     "output_type": "execute_result"
    }
   ],
   "source": [
    "ExpertAnnotations.describe()"
   ]
  },
  {
   "cell_type": "markdown",
   "id": "06c9b9cb",
   "metadata": {},
   "source": [
    "Видно, что все данные находятся в правильном диапазоне."
   ]
  },
  {
   "cell_type": "code",
   "execution_count": 21,
   "id": "e95abbf1",
   "metadata": {},
   "outputs": [
    {
     "name": "stdout",
     "output_type": "stream",
     "text": [
      "<class 'pandas.core.frame.DataFrame'>\n",
      "RangeIndex: 47830 entries, 0 to 47829\n",
      "Data columns (total 5 columns):\n",
      " #   Column     Non-Null Count  Dtype  \n",
      "---  ------     --------------  -----  \n",
      " 0   file_name  47830 non-null  object \n",
      " 1   query_id   47830 non-null  object \n",
      " 2   score_1    47830 non-null  float64\n",
      " 3   score_2    47830 non-null  int64  \n",
      " 4   score_3    47830 non-null  int64  \n",
      "dtypes: float64(1), int64(2), object(2)\n",
      "memory usage: 1.8+ MB\n"
     ]
    }
   ],
   "source": [
    "CrowdAnnotations.info()"
   ]
  },
  {
   "cell_type": "markdown",
   "id": "7bf7febc",
   "metadata": {},
   "source": [
    "Проверил если правельный формат данных"
   ]
  },
  {
   "cell_type": "code",
   "execution_count": 25,
   "id": "13db03f1",
   "metadata": {},
   "outputs": [
    {
     "data": {
      "image/png": "[encoded data removed]",
      "text/plain": [
       "<Figure size 640x480 with 1 Axes>"
      ]
     },
     "metadata": {},
     "output_type": "display_data"
    }
   ],
   "source": [
    "(CrowdAnnotations.score_2 + CrowdAnnotations.score_3).hist(bins=20)\n",
    "plt.title('Распределение кол-ва ответов у волонтерев')\n",
    "plt.xlabel('кол-вo ответов')\n",
    "plt.ylabel('кол-вo данных')\n",
    "plt.show()"
   ]
  },
  {
   "cell_type": "markdown",
   "id": "f129a37c",
   "metadata": {},
   "source": [
    "Тут видно что минимальное кол-во ответов 3, а выбросы не особо важны."
   ]
  },
  {
   "cell_type": "markdown",
   "id": "393b6604",
   "metadata": {},
   "source": [
    "# Обьединение Данных"
   ]
  },
  {
   "cell_type": "markdown",
   "id": "08b9f4ba",
   "metadata": {},
   "source": [
    "Описание ExpertAnnotations: <br/>\n",
    "1. Имя файла\n",
    "2. Идентификатор описнания <br/>\n",
    "3-5 Оценки по шкале 1-4"
   ]
  },
  {
   "cell_type": "markdown",
   "id": "3c6c9c1a",
   "metadata": {},
   "source": [
    "Описание CrowdAnnotations: <br/>\n",
    "1. Имя файла\n",
    "2. Идентификатор описания\n",
    "3. Доля людей, подтвердивших, что описание соответсвует изображению\n",
    "4. Количество человек, подтвердивших, что описание соответствует изображению\n",
    "5. Количество человек, подтвердивших, что описание не соответствует изображению"
   ]
  },
  {
   "cell_type": "markdown",
   "id": "f91d983c",
   "metadata": {},
   "source": [
    "<div style=\"padding:1rem;background:aqua;\">\n",
    "    - Так как оценка соотвествия у нашей модели будем шкала 0-1, нам нужны похожие данные. <br/>\n",
    "    - Оценки экспертов можно обьеденить в одну среднюю оценку, потом поменять по формуле (x-1)/3. <br/>\n",
    "    - Оценку волонтерев можно считать как долю. А важность будет 30% по отношению к экспертам.\n",
    "</div>"
   ]
  },
  {
   "cell_type": "code",
   "execution_count": 26,
   "id": "7a3c105c",
   "metadata": {},
   "outputs": [],
   "source": [
    "prompt_score = ExpertAnnotations"
   ]
  },
  {
   "cell_type": "code",
   "execution_count": 29,
   "id": "4f16ac46",
   "metadata": {},
   "outputs": [],
   "source": [
    "prompt_score['score'] = prompt_score.score_1 + prompt_score.score_2 + prompt_score.score_3"
   ]
  },
  {
   "cell_type": "code",
   "execution_count": 30,
   "id": "d943f8fe",
   "metadata": {},
   "outputs": [],
   "source": [
    "# divide by 3 (3 summed scores), divide by 3 (ratio 0-1)\n",
    "prompt_score.score = prompt_score.score.apply(lambda x: ((x/3) - 1)/3)"
   ]
  },
  {
   "cell_type": "code",
   "execution_count": 31,
   "id": "68e4cb41",
   "metadata": {},
   "outputs": [],
   "source": [
    "prompt_score = prompt_score.drop(columns=['score_1', 'score_2', 'score_3'])"
   ]
  },
  {
   "cell_type": "code",
   "execution_count": 32,
   "id": "4045a9cc",
   "metadata": {},
   "outputs": [
    {
     "data": {
      "text/html": [
       "<div>\n",
       "<style scoped>\n",
       "    .dataframe tbody tr th:only-of-type {\n",
       "        vertical-align: middle;\n",
       "    }\n",
       "\n",
       "    .dataframe tbody tr th {\n",
       "        vertical-align: top;\n",
       "    }\n",
       "\n",
       "    .dataframe thead th {\n",
       "        text-align: right;\n",
       "    }\n",
       "</style>\n",
       "<table border=\"1\" class=\"dataframe\">\n",
       "  <thead>\n",
       "    <tr style=\"text-align: right;\">\n",
       "      <th></th>\n",
       "      <th>file_name</th>\n",
       "      <th>query_id</th>\n",
       "      <th>score</th>\n",
       "    </tr>\n",
       "  </thead>\n",
       "  <tbody>\n",
       "    <tr>\n",
       "      <th>3592</th>\n",
       "      <td>3256043809_47258e0b3e.jpg</td>\n",
       "      <td>3585487286_ef9a8d4c56.jpg#2</td>\n",
       "      <td>0.333333</td>\n",
       "    </tr>\n",
       "    <tr>\n",
       "      <th>1964</th>\n",
       "      <td>2654514044_a70a6e2c21.jpg</td>\n",
       "      <td>2238019823_79318d1f11.jpg#2</td>\n",
       "      <td>0.000000</td>\n",
       "    </tr>\n",
       "    <tr>\n",
       "      <th>1039</th>\n",
       "      <td>224369028_b1ac40d1fa.jpg</td>\n",
       "      <td>2101457132_69c950bc45.jpg#2</td>\n",
       "      <td>0.000000</td>\n",
       "    </tr>\n",
       "  </tbody>\n",
       "</table>\n",
       "</div>"
      ],
      "text/plain": [
       "                      file_name                     query_id     score\n",
       "3592  3256043809_47258e0b3e.jpg  3585487286_ef9a8d4c56.jpg#2  0.333333\n",
       "1964  2654514044_a70a6e2c21.jpg  2238019823_79318d1f11.jpg#2  0.000000\n",
       "1039   224369028_b1ac40d1fa.jpg  2101457132_69c950bc45.jpg#2  0.000000"
      ]
     },
     "execution_count": 32,
     "metadata": {},
     "output_type": "execute_result"
    }
   ],
   "source": [
    "prompt_score.sample(3)"
   ]
  },
  {
   "cell_type": "code",
   "execution_count": 33,
   "id": "e14f01bd",
   "metadata": {},
   "outputs": [
    {
     "data": {
      "image/png": "[encoded data removed]",
      "text/plain": [
       "<Figure size 640x480 with 1 Axes>"
      ]
     },
     "metadata": {},
     "output_type": "display_data"
    }
   ],
   "source": [
    "prompt_score.score.hist()\n",
    "plt.title('Распределение оценок описания к кортинкам.')\n",
    "plt.xlabel('оценка')\n",
    "plt.ylabel('кол-во')\n",
    "plt.show()"
   ]
  },
  {
   "cell_type": "code",
   "execution_count": 58,
   "id": "fd589cee",
   "metadata": {},
   "outputs": [],
   "source": [
    "step = pd.merge(prompt_score, CrowdAnnotations, how='left', on=['file_name','query_id'])"
   ]
  },
  {
   "cell_type": "code",
   "execution_count": 59,
   "id": "21f77b94",
   "metadata": {},
   "outputs": [
    {
     "data": {
      "text/html": [
       "<div>\n",
       "<style scoped>\n",
       "    .dataframe tbody tr th:only-of-type {\n",
       "        vertical-align: middle;\n",
       "    }\n",
       "\n",
       "    .dataframe tbody tr th {\n",
       "        vertical-align: top;\n",
       "    }\n",
       "\n",
       "    .dataframe thead th {\n",
       "        text-align: right;\n",
       "    }\n",
       "</style>\n",
       "<table border=\"1\" class=\"dataframe\">\n",
       "  <thead>\n",
       "    <tr style=\"text-align: right;\">\n",
       "      <th></th>\n",
       "      <th>file_name</th>\n",
       "      <th>query_id</th>\n",
       "      <th>score</th>\n",
       "      <th>score_1</th>\n",
       "      <th>score_2</th>\n",
       "      <th>score_3</th>\n",
       "    </tr>\n",
       "  </thead>\n",
       "  <tbody>\n",
       "    <tr>\n",
       "      <th>0</th>\n",
       "      <td>1056338697_4f7d7ce270.jpg</td>\n",
       "      <td>2549968784_39bfbe44f9.jpg#2</td>\n",
       "      <td>0.000000</td>\n",
       "      <td>0.0</td>\n",
       "      <td>0.0</td>\n",
       "      <td>3.0</td>\n",
       "    </tr>\n",
       "    <tr>\n",
       "      <th>1</th>\n",
       "      <td>1056338697_4f7d7ce270.jpg</td>\n",
       "      <td>2718495608_d8533e3ac5.jpg#2</td>\n",
       "      <td>0.111111</td>\n",
       "      <td>0.0</td>\n",
       "      <td>0.0</td>\n",
       "      <td>3.0</td>\n",
       "    </tr>\n",
       "    <tr>\n",
       "      <th>2</th>\n",
       "      <td>1056338697_4f7d7ce270.jpg</td>\n",
       "      <td>3181701312_70a379ab6e.jpg#2</td>\n",
       "      <td>0.111111</td>\n",
       "      <td>NaN</td>\n",
       "      <td>NaN</td>\n",
       "      <td>NaN</td>\n",
       "    </tr>\n",
       "    <tr>\n",
       "      <th>3</th>\n",
       "      <td>1056338697_4f7d7ce270.jpg</td>\n",
       "      <td>3207358897_bfa61fa3c6.jpg#2</td>\n",
       "      <td>0.222222</td>\n",
       "      <td>NaN</td>\n",
       "      <td>NaN</td>\n",
       "      <td>NaN</td>\n",
       "    </tr>\n",
       "    <tr>\n",
       "      <th>4</th>\n",
       "      <td>1056338697_4f7d7ce270.jpg</td>\n",
       "      <td>3286822339_5535af6b93.jpg#2</td>\n",
       "      <td>0.111111</td>\n",
       "      <td>NaN</td>\n",
       "      <td>NaN</td>\n",
       "      <td>NaN</td>\n",
       "    </tr>\n",
       "  </tbody>\n",
       "</table>\n",
       "</div>"
      ],
      "text/plain": [
       "                   file_name                     query_id     score  score_1   \n",
       "0  1056338697_4f7d7ce270.jpg  2549968784_39bfbe44f9.jpg#2  0.000000      0.0  \\\n",
       "1  1056338697_4f7d7ce270.jpg  2718495608_d8533e3ac5.jpg#2  0.111111      0.0   \n",
       "2  1056338697_4f7d7ce270.jpg  3181701312_70a379ab6e.jpg#2  0.111111      NaN   \n",
       "3  1056338697_4f7d7ce270.jpg  3207358897_bfa61fa3c6.jpg#2  0.222222      NaN   \n",
       "4  1056338697_4f7d7ce270.jpg  3286822339_5535af6b93.jpg#2  0.111111      NaN   \n",
       "\n",
       "   score_2  score_3  \n",
       "0      0.0      3.0  \n",
       "1      0.0      3.0  \n",
       "2      NaN      NaN  \n",
       "3      NaN      NaN  \n",
       "4      NaN      NaN  "
      ]
     },
     "execution_count": 59,
     "metadata": {},
     "output_type": "execute_result"
    }
   ],
   "source": [
    "step.head()"
   ]
  },
  {
   "cell_type": "markdown",
   "id": "79388cb7",
   "metadata": {},
   "source": [
    "Где есть волонтерские данные соеденим их с важностью 30%, а где нет, оставим прежнюю оценку."
   ]
  },
  {
   "cell_type": "code",
   "execution_count": 60,
   "id": "a470c818",
   "metadata": {},
   "outputs": [],
   "source": [
    "def join_scores(row):\n",
    "    if not math.isnan(row.score_1):\n",
    "        return row.score * 0.7 + row.score_1 * 0.3\n",
    "    return row.score\n",
    "\n",
    "step.score = step.apply(lambda row: join_scores(row), axis=1)"
   ]
  },
  {
   "cell_type": "code",
   "execution_count": 61,
   "id": "d9d0794e",
   "metadata": {},
   "outputs": [
    {
     "data": {
      "text/html": [
       "<div>\n",
       "<style scoped>\n",
       "    .dataframe tbody tr th:only-of-type {\n",
       "        vertical-align: middle;\n",
       "    }\n",
       "\n",
       "    .dataframe tbody tr th {\n",
       "        vertical-align: top;\n",
       "    }\n",
       "\n",
       "    .dataframe thead th {\n",
       "        text-align: right;\n",
       "    }\n",
       "</style>\n",
       "<table border=\"1\" class=\"dataframe\">\n",
       "  <thead>\n",
       "    <tr style=\"text-align: right;\">\n",
       "      <th></th>\n",
       "      <th>file_name</th>\n",
       "      <th>query_id</th>\n",
       "      <th>score</th>\n",
       "      <th>score_1</th>\n",
       "      <th>score_2</th>\n",
       "      <th>score_3</th>\n",
       "    </tr>\n",
       "  </thead>\n",
       "  <tbody>\n",
       "    <tr>\n",
       "      <th>0</th>\n",
       "      <td>1056338697_4f7d7ce270.jpg</td>\n",
       "      <td>2549968784_39bfbe44f9.jpg#2</td>\n",
       "      <td>0.000000</td>\n",
       "      <td>0.0</td>\n",
       "      <td>0.0</td>\n",
       "      <td>3.0</td>\n",
       "    </tr>\n",
       "    <tr>\n",
       "      <th>1</th>\n",
       "      <td>1056338697_4f7d7ce270.jpg</td>\n",
       "      <td>2718495608_d8533e3ac5.jpg#2</td>\n",
       "      <td>0.077778</td>\n",
       "      <td>0.0</td>\n",
       "      <td>0.0</td>\n",
       "      <td>3.0</td>\n",
       "    </tr>\n",
       "    <tr>\n",
       "      <th>2</th>\n",
       "      <td>1056338697_4f7d7ce270.jpg</td>\n",
       "      <td>3181701312_70a379ab6e.jpg#2</td>\n",
       "      <td>0.111111</td>\n",
       "      <td>NaN</td>\n",
       "      <td>NaN</td>\n",
       "      <td>NaN</td>\n",
       "    </tr>\n",
       "    <tr>\n",
       "      <th>3</th>\n",
       "      <td>1056338697_4f7d7ce270.jpg</td>\n",
       "      <td>3207358897_bfa61fa3c6.jpg#2</td>\n",
       "      <td>0.222222</td>\n",
       "      <td>NaN</td>\n",
       "      <td>NaN</td>\n",
       "      <td>NaN</td>\n",
       "    </tr>\n",
       "    <tr>\n",
       "      <th>4</th>\n",
       "      <td>1056338697_4f7d7ce270.jpg</td>\n",
       "      <td>3286822339_5535af6b93.jpg#2</td>\n",
       "      <td>0.111111</td>\n",
       "      <td>NaN</td>\n",
       "      <td>NaN</td>\n",
       "      <td>NaN</td>\n",
       "    </tr>\n",
       "  </tbody>\n",
       "</table>\n",
       "</div>"
      ],
      "text/plain": [
       "                   file_name                     query_id     score  score_1   \n",
       "0  1056338697_4f7d7ce270.jpg  2549968784_39bfbe44f9.jpg#2  0.000000      0.0  \\\n",
       "1  1056338697_4f7d7ce270.jpg  2718495608_d8533e3ac5.jpg#2  0.077778      0.0   \n",
       "2  1056338697_4f7d7ce270.jpg  3181701312_70a379ab6e.jpg#2  0.111111      NaN   \n",
       "3  1056338697_4f7d7ce270.jpg  3207358897_bfa61fa3c6.jpg#2  0.222222      NaN   \n",
       "4  1056338697_4f7d7ce270.jpg  3286822339_5535af6b93.jpg#2  0.111111      NaN   \n",
       "\n",
       "   score_2  score_3  \n",
       "0      0.0      3.0  \n",
       "1      0.0      3.0  \n",
       "2      NaN      NaN  \n",
       "3      NaN      NaN  \n",
       "4      NaN      NaN  "
      ]
     },
     "execution_count": 61,
     "metadata": {},
     "output_type": "execute_result"
    }
   ],
   "source": [
    "step.head()"
   ]
  },
  {
   "cell_type": "code",
   "execution_count": 62,
   "id": "06cea0a9",
   "metadata": {},
   "outputs": [],
   "source": [
    "prompt_score = step.drop(columns=['score_1', 'score_2', 'score_3'])"
   ]
  },
  {
   "cell_type": "code",
   "execution_count": null,
   "id": "dcd94648",
   "metadata": {},
   "outputs": [],
   "source": []
  }
 ],
 "metadata": {
  "kernelspec": {
   "display_name": "Python 3 (ipykernel)",
   "language": "python",
   "name": "python3"
  },
  "language_info": {
   "codemirror_mode": {
    "name": "ipython",
    "version": 3
   },
   "file_extension": ".py",
   "mimetype": "text/x-python",
   "name": "python",
   "nbconvert_exporter": "python",
   "pygments_lexer": "ipython3",
   "version": "3.10.10"
  }
 },
 "nbformat": 4,
 "nbformat_minor": 5
}
